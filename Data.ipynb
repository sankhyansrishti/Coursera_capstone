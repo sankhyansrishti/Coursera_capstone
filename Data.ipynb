{
 "cells": [
  {
   "cell_type": "markdown",
   "metadata": {},
   "source": [
    "# Capstone Project — The Battle of Neighbourhoods\n",
    "\n",
    "## Data\n",
    "\n",
    "For this project we need the following data :\n",
    "\n",
    "##### 1.New Delhi  Resturants data that contains list Locality, Resturant name,Rating along with their latitude and longitude.\n",
    "##### Data source : \n",
    "Zomato kaggel dataset\n",
    "##### Description : \n",
    "This data set contains the required information. And we will use this data set to explore various locality of new delhi city.\n",
    "##### Nearby places in each locality of new delhi city.\n",
    "##### Data source : \n",
    "Fousquare API\n",
    "##### Description :\n",
    "By using this api we will get all the venues in each neighborhood.\n",
    "\n",
    "## Approach\n",
    "###### 1.\n",
    "Collect the new delhi city data from Zomato kaggel dataset. \n",
    "###### 2.\n",
    "Using FourSquare API we will find all venues for each neighborhood. \n",
    "###### 3.\n",
    "Filter out all venues that are nearby by locality.\n",
    "###### 4.\n",
    "Using aggregative rating for each resturant to find the best places. Visualize the Ranking of neighborhoods using folium library(python)."
   ]
  },
  {
   "cell_type": "code",
   "execution_count": null,
   "metadata": {},
   "outputs": [],
   "source": []
  }
 ],
 "metadata": {
  "kernelspec": {
   "display_name": "Python 3",
   "language": "python",
   "name": "python3"
  },
  "language_info": {
   "codemirror_mode": {
    "name": "ipython",
    "version": 3
   },
   "file_extension": ".py",
   "mimetype": "text/x-python",
   "name": "python",
   "nbconvert_exporter": "python",
   "pygments_lexer": "ipython3",
   "version": "3.7.6"
  }
 },
 "nbformat": 4,
 "nbformat_minor": 4
}
