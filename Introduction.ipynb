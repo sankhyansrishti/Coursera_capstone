{
 "cells": [
  {
   "cell_type": "markdown",
   "metadata": {},
   "source": [
    "# Capstone Project — The Battle of Neighbourhoods\n",
    "\n",
    "## Introduction\n",
    "\n",
    "Living in New Delhi since past 5 years i have explored it very well so as we know New Delhi is the capital city of India.The city itself has a population of lacs. However, the much larger metro area has a population that exceeds 26 million.\n",
    "\n",
    "Over last decades it is continuously grow because of the city’s important role in government and commercial business.The scope of buisness is increasing day by day.\n",
    "\n",
    "With it’s diverse culture , comes diverse food items. There are many restaurants in New Delhi City, each belonging to different categories like Chinese , Italian , French etc. So as part of this project , we will list and visualise all major parts of New Delhi City .\n",
    "\n",
    "### Questions that can be asked using the above mentioned datasets\n",
    "##### 1.What is best location in New Delhi City for Chinese Cuisine ?\n",
    "##### 2.Which areas have large number of Chinese Resturant Market ?\n",
    "##### 3.Which all areas have less number of resturant ?\n",
    "##### 4.Which is the best place to stay if I prefer Chinese Cuisine ?\n",
    "##### 5.What places are have best restaurant in New Delhi?"
   ]
  },
  {
   "cell_type": "code",
   "execution_count": null,
   "metadata": {},
   "outputs": [],
   "source": []
  }
 ],
 "metadata": {
  "kernelspec": {
   "display_name": "Python 3",
   "language": "python",
   "name": "python3"
  },
  "language_info": {
   "codemirror_mode": {
    "name": "ipython",
    "version": 3
   },
   "file_extension": ".py",
   "mimetype": "text/x-python",
   "name": "python",
   "nbconvert_exporter": "python",
   "pygments_lexer": "ipython3",
   "version": "3.7.6"
  }
 },
 "nbformat": 4,
 "nbformat_minor": 4
}
